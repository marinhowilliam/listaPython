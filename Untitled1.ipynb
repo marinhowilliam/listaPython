{
  "nbformat": 4,
  "nbformat_minor": 0,
  "metadata": {
    "colab": {
      "provenance": [],
      "authorship_tag": "ABX9TyMjBLBvqp4a1TwKdRbVG3mi",
      "include_colab_link": true
    },
    "kernelspec": {
      "name": "python3",
      "display_name": "Python 3"
    },
    "language_info": {
      "name": "python"
    }
  },
  "cells": [
    {
      "cell_type": "markdown",
      "metadata": {
        "id": "view-in-github",
        "colab_type": "text"
      },
      "source": [
        "<a href=\"https://colab.research.google.com/github/marinhowilliam/listaPython/blob/main/Untitled1.ipynb\" target=\"_parent\"><img src=\"https://colab.research.google.com/assets/colab-badge.svg\" alt=\"Open In Colab\"/></a>"
      ]
    },
    {
      "cell_type": "markdown",
      "source": [
        "1. Faça um CÓDIGO que mostre a mensagem \"Olá ETE PORTO DIGITAL!\" na tela.\n"
      ],
      "metadata": {
        "id": "xqTBDEK_qexL"
      }
    },
    {
      "cell_type": "code",
      "source": [
        "print(\"Olá ETE PORTO DIGITAL!\")"
      ],
      "metadata": {
        "colab": {
          "base_uri": "https://localhost:8080/"
        },
        "id": "v44ltlNZqjjG",
        "outputId": "61fc3ffc-c822-494b-88be-56753e8133f7"
      },
      "execution_count": 1,
      "outputs": [
        {
          "output_type": "stream",
          "name": "stdout",
          "text": [
            "Olá ETE PORTO DIGITAL!\n"
          ]
        }
      ]
    },
    {
      "cell_type": "markdown",
      "source": [
        "2. Faça um CÓDIGO que peça um número e então mostre a mensagem O número informado foi [número]"
      ],
      "metadata": {
        "id": "E6wHf-nNqyln"
      }
    },
    {
      "cell_type": "code",
      "source": [
        "numero = input('informe um numero: ')\n",
        "print(numero)"
      ],
      "metadata": {
        "colab": {
          "base_uri": "https://localhost:8080/"
        },
        "id": "ob9lar6Yq28j",
        "outputId": "35180120-47ff-4974-e491-c447b08bb16f"
      },
      "execution_count": 4,
      "outputs": [
        {
          "output_type": "stream",
          "name": "stdout",
          "text": [
            "informe um numero: 3\n",
            "3\n"
          ]
        }
      ]
    },
    {
      "cell_type": "markdown",
      "source": [
        "3. Faça um CÓDIGO que peça dois números e imprima a soma."
      ],
      "metadata": {
        "id": "N9GqACWprfF_"
      }
    },
    {
      "cell_type": "code",
      "source": [
        "n1 = int(input('informe um numero: '))\n",
        "n2 = int(input('informe outro numero: '))\n",
        "soma = (n1 + n2)\n",
        "print(soma)"
      ],
      "metadata": {
        "colab": {
          "base_uri": "https://localhost:8080/"
        },
        "id": "TQVwoxt0riDO",
        "outputId": "e2b50478-20fd-4cde-bab1-8a0cf487da50"
      },
      "execution_count": 5,
      "outputs": [
        {
          "output_type": "stream",
          "name": "stdout",
          "text": [
            "informe um numero: 5\n",
            "informe outro numero: 5\n",
            "10\n"
          ]
        }
      ]
    },
    {
      "cell_type": "markdown",
      "source": [],
      "metadata": {
        "id": "eWfW6j1Cr2se"
      }
    },
    {
      "cell_type": "markdown",
      "source": [
        "4. Faça um CÓDIGO que peça as 4 notas bimestrais e mostre a média final."
      ],
      "metadata": {
        "id": "Y-LGHcmkr4uo"
      }
    },
    {
      "cell_type": "code",
      "source": [
        "nota1 = float(input('informe sua primeira nota: '))\n",
        "nota2 = float(input('informe sua segunda nota: '))\n",
        "nota3 = float(input('informe sua terceira nota: '))\n",
        "nota4 = float(input('informe sua quarta nota: '))\n",
        "media = (nota1 + nota2 + nota3 + nota4) / 4\n",
        "print(f'sua media é de: {round(media, 1)}')"
      ],
      "metadata": {
        "colab": {
          "base_uri": "https://localhost:8080/"
        },
        "id": "L3_2Igkzr6OM",
        "outputId": "26ae3b9f-eb29-4b97-da01-a1d520b8027d"
      },
      "execution_count": 14,
      "outputs": [
        {
          "output_type": "stream",
          "name": "stdout",
          "text": [
            "informe sua primeira nota: 8.5\n",
            "informe sua segunda nota: 8.5\n",
            "informe sua terceira nota: 8.5\n",
            "informe sua quarta nota: 8.5\n",
            "sua media é de: 8.5\n"
          ]
        }
      ]
    },
    {
      "cell_type": "markdown",
      "source": [
        "5. Faça um CÓDIGO que converta metros para centímetros."
      ],
      "metadata": {
        "id": "7rAhx-O-uG03"
      }
    },
    {
      "cell_type": "code",
      "source": [
        "informacao = float(input('informe o valor para ser convertido: '))\n",
        "div = informacao * 100\n",
        "print(f'{div}CM')"
      ],
      "metadata": {
        "colab": {
          "base_uri": "https://localhost:8080/"
        },
        "id": "7qoQu8RQuKVd",
        "outputId": "3414f09d-ec3d-41ba-96dc-f05b4d5f3ae9"
      },
      "execution_count": 18,
      "outputs": [
        {
          "output_type": "stream",
          "name": "stdout",
          "text": [
            "informe o valor para ser convertido: 15.98\n",
            "1598.0CM\n"
          ]
        }
      ]
    },
    {
      "cell_type": "markdown",
      "source": [
        "6. Faça um CÓDIGO que peça o raio de um círculo, calcule e mostre sua área."
      ],
      "metadata": {
        "id": "bMxYj4vxvGRG"
      }
    },
    {
      "cell_type": "code",
      "source": [
        "raio = float(input('informe o raio do circulo: '))\n",
        "pi = 3.14\n",
        "area = pi * raio**2\n",
        "print(f'a area do circulo é: {area}')"
      ],
      "metadata": {
        "colab": {
          "base_uri": "https://localhost:8080/"
        },
        "id": "THLDw-h9vJxH",
        "outputId": "15e57dba-3645-4eaa-e574-072b59fea0de"
      },
      "execution_count": 19,
      "outputs": [
        {
          "output_type": "stream",
          "name": "stdout",
          "text": [
            "informe o raio do circulo: 2\n",
            "a area do circulo é: 12.56\n"
          ]
        }
      ]
    },
    {
      "cell_type": "markdown",
      "source": [
        "7. Faça um CÓDIGO que calcule a área de um quadrado, em seguida mostre o dobro desta área para o usuário."
      ],
      "metadata": {
        "id": "TsYeePVbxOap"
      }
    },
    {
      "cell_type": "code",
      "source": [
        "lado = float(input('informe o valor do lado do quadrado: '))\n",
        "area = lado * lado\n",
        "print(f'a area do quadrado é: {area} e o dobro da area é: {area * 2}')"
      ],
      "metadata": {
        "colab": {
          "base_uri": "https://localhost:8080/"
        },
        "id": "rOA0TiVVxSGk",
        "outputId": "0c4319fa-26e1-4639-d057-fe1f1461fcf0"
      },
      "execution_count": 20,
      "outputs": [
        {
          "output_type": "stream",
          "name": "stdout",
          "text": [
            "informe o valor do lado do quadrado: 5\n",
            "a area do quadrado é: 25.0 e o dobro da area é: 50.0\n"
          ]
        }
      ]
    },
    {
      "cell_type": "markdown",
      "source": [
        "8. Faça um CÓDIGO que pergunte quanto você ganha por hora e o número de horas trabalhadas no mês. Calcule e mostre o total do seu salário no referido mês."
      ],
      "metadata": {
        "id": "W_IqoakZx8yQ"
      }
    },
    {
      "cell_type": "code",
      "source": [
        "valorHora = float(input('informe o valor que voce ganha por hora: '))\n",
        "horaSemanal = float(input('informe quantas horas por mes voce trabalha: '))\n",
        "mult = valorHora * horaSemanal\n",
        "print(f'seu salario este mes sera de R${mult}')"
      ],
      "metadata": {
        "colab": {
          "base_uri": "https://localhost:8080/"
        },
        "id": "xMunVWTtx_20",
        "outputId": "598507d3-be81-4ebe-8ddb-5706c5141021"
      },
      "execution_count": 22,
      "outputs": [
        {
          "output_type": "stream",
          "name": "stdout",
          "text": [
            "informe o valor que voce ganha por hora: 10\n",
            "informe quantas horas por mes voce trabalha: 220\n",
            "seu salario este mes sera de R$2200.0\n"
          ]
        }
      ]
    },
    {
      "cell_type": "markdown",
      "source": [
        "9. Faça um CÓDIGO que peça um valor e mostre na tela se o valor é positivo ou negativo."
      ],
      "metadata": {
        "id": "ZT5WIA9tzENQ"
      }
    },
    {
      "cell_type": "code",
      "source": [
        "valor = int(input('informe um valor inteiro: '))\n",
        "if valor > 0:\n",
        "  print('valor positivo')\n",
        "else:\n",
        "  print('valor negativo')"
      ],
      "metadata": {
        "colab": {
          "base_uri": "https://localhost:8080/"
        },
        "id": "H5X8lDQzzHGf",
        "outputId": "d45f299e-3e3c-4597-b01e-0c2ca1a5f141"
      },
      "execution_count": 24,
      "outputs": [
        {
          "output_type": "stream",
          "name": "stdout",
          "text": [
            "informe um valor inteiro: -1\n",
            "valor negativo\n"
          ]
        }
      ]
    },
    {
      "cell_type": "markdown",
      "source": [
        "10. Faça um CÓDIGO que verifique se uma letra digitada é \"F\" ou \"M\". Conforme a letra escrever: F - Feminino, M - Masculino, Sexo Inválido."
      ],
      "metadata": {
        "id": "bMI2MpXJzl8J"
      }
    },
    {
      "cell_type": "code",
      "source": [
        "informacao = input('digite F ou M \\n')\n",
        "if informacao == 'f' or informacao == 'F':\n",
        "  print('Feminino')\n",
        "elif informacao == 'm' or informacao == 'M':\n",
        "  print('Masculino')\n"
      ],
      "metadata": {
        "colab": {
          "base_uri": "https://localhost:8080/"
        },
        "id": "7eesduQ-zoG2",
        "outputId": "2e539a56-d25c-40e9-a12f-b9418021cf61"
      },
      "execution_count": 36,
      "outputs": [
        {
          "output_type": "stream",
          "name": "stdout",
          "text": [
            "digite F ou M \n",
            "M\n",
            "Masculino\n"
          ]
        }
      ]
    }
  ]
}